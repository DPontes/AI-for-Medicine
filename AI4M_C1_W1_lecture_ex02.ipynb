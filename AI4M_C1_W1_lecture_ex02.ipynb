{
 "cells": [
  {
   "cell_type": "markdown",
   "metadata": {},
   "source": [
    "# Counting Labels\n",
    "One way to avoid having class imbalance imapct the loss function is to weight the losses differently. To choose the weights, the class frequencies are calculated."
   ]
  },
  {
   "cell_type": "code",
   "execution_count": 1,
   "metadata": {},
   "outputs": [],
   "source": [
    "# Import the necessary packages\n",
    "import numpy as np\n",
    "import pandas as pd\n",
    "import seaborn as sns\n",
    "import matplotlib.pyplot as plt\n",
    "%matplotlib inline"
   ]
  },
  {
   "cell_type": "code",
   "execution_count": 2,
   "metadata": {},
   "outputs": [],
   "source": [
    "# Read csv file containing training data\n",
    "train_df = pd.read_csv(\"nih/train-small.csv\")"
   ]
  },
  {
   "cell_type": "code",
   "execution_count": 3,
   "metadata": {},
   "outputs": [],
   "source": [
    "# Count up the number of instances of each class (drop non-class columns from the counts)\n",
    "class_counts = train_df.sum().drop(['Image', 'PatientId'])"
   ]
  },
  {
   "cell_type": "code",
   "execution_count": 4,
   "metadata": {},
   "outputs": [
    {
     "name": "stdout",
     "output_type": "stream",
     "text": [
      "The class Atelectasis has 106 samples\n",
      "The class Cardiomegaly has 20 samples\n",
      "The class Consolidation has 33 samples\n",
      "The class Edema has 16 samples\n",
      "The class Effusion has 128 samples\n",
      "The class Emphysema has 13 samples\n",
      "The class Fibrosis has 14 samples\n",
      "The class Hernia has 2 samples\n",
      "The class Infiltration has 175 samples\n",
      "The class Mass has 45 samples\n",
      "The class Nodule has 54 samples\n",
      "The class Pleural_Thickening has 21 samples\n",
      "The class Pneumonia has 10 samples\n",
      "The class Pneumothorax has 38 samples\n"
     ]
    }
   ],
   "source": [
    "for column in class_counts.keys():\n",
    "    print(f\"The class {column} has {train_df[column].sum()} samples\")"
   ]
  },
  {
   "cell_type": "code",
   "execution_count": 7,
   "metadata": {},
   "outputs": [
    {
     "data": {
      "image/png": "[encoded data removed]",
      "text/plain": [
       "<Figure size 432x288 with 1 Axes>"
      ]
     },
     "metadata": {
      "needs_background": "light"
     },
     "output_type": "display_data"
    }
   ],
   "source": [
    "# Plot up the distribution of counts\n",
    "sns.barplot(class_counts.values, class_counts.index, color='b')\n",
    "plt.title('Distribution of Classes for Training dataset', fontsize=15)\n",
    "plt.xlabel('Number of Patients', fontsize=15)\n",
    "plt.ylabel('Diseases', fontsize=15)\n",
    "plt.show()"
   ]
  },
  {
   "cell_type": "markdown",
   "metadata": {},
   "source": [
    "As it's possible to observe, the distribution of instances between the classes is not balanced"
   ]
  },
  {
   "cell_type": "markdown",
   "metadata": {},
   "source": [
    "## Weighted Loss Function\n",
    "A hypothetical set of true labels will be defined and then a set of random predictions."
   ]
  },
  {
   "cell_type": "code",
   "execution_count": 8,
   "metadata": {},
   "outputs": [
    {
     "name": "stdout",
     "output_type": "stream",
     "text": [
      "[[1]\n",
      " [1]\n",
      " [1]\n",
      " [1]\n",
      " [1]\n",
      " [1]\n",
      " [1]\n",
      " [0]\n",
      " [0]\n",
      " [0]] (10, 1)\n"
     ]
    }
   ],
   "source": [
    "# Generate an array of 10 binary label values, 7 positive and 3 negative, then reshape to a column\n",
    "y_true = np.array([1,1,1,1,1,1,1,0,0,0]).reshape(10, 1)\n",
    "print(y_true, y_true.shape)"
   ]
  },
  {
   "cell_type": "code",
   "execution_count": 9,
   "metadata": {},
   "outputs": [
    {
     "name": "stdout",
     "output_type": "stream",
     "text": [
      "[[0.9]\n",
      " [0. ]\n",
      " [0.9]\n",
      " [0. ]\n",
      " [0.9]\n",
      " [0.9]\n",
      " [0. ]\n",
      " [0. ]\n",
      " [0. ]\n",
      " [0.9]] (10, 1)\n"
     ]
    }
   ],
   "source": [
    "# Generate an array of random predictions (either 0 or 0.9 for each) and reshape the column\n",
    "y_predict = np.random.randint(0, 2, 10).reshape(10, 1) * 0.9\n",
    "print(y_predict, y_predict.shape)"
   ]
  },
  {
   "cell_type": "markdown",
   "metadata": {},
   "source": [
    "The Next two cells will define positive and negative weights and a value of epsilon to be used in the loss function"
   ]
  },
  {
   "cell_type": "code",
   "execution_count": 10,
   "metadata": {},
   "outputs": [],
   "source": [
    "# Define positive and negative weights to be used in the loss function\n",
    "# The positive weight is determined by the fraction of labels that are negative (3/10 in this case)\n",
    "positive_weight = 0.3\n",
    "# The negative weight is determined by the fraction of labels that are positive (7/10 in this case)\n",
    "negative_weight = 0.7"
   ]
  },
  {
   "cell_type": "code",
   "execution_count": 11,
   "metadata": {},
   "outputs": [],
   "source": [
    "# Define a value \"epsilon\" to be used in calculating the loss\n",
    "# This value is just used to avoid an error due to taking the log of zero\n",
    "epsilon = 1e-7"
   ]
  },
  {
   "cell_type": "markdown",
   "metadata": {},
   "source": [
    "## Weighted Loss Equation\n",
    "Calculate the loss for the zero-th label (column at index 0)\n",
    "\n",
    "- The loss is made up of two terms:\n",
    "    - $loss_(pos)$: we'll use this to refer to the loss where the actual label is positive (the positive examples)\n",
    "    - $loss_(neg)$: we'll use this to refer to the loss where the actual label is negative (the negative examples)\n",
    "- Note that within the $log()$ function, we'll add a tiny positive value, to avoid an error if taking the log of zero\n",
    "\n",
    "$$ loss^{(i)} = loss_(pos)^{(i)} + loss_(neg)^{(i)} $$\n",
    "$$ loss_{pos}^{(i)} = -1 \\times weight_{pos}^{(i)} \\times y^{(i)} \\times log(\\hat{y}^{(i)} + \\epsilon)$$\n",
    "$$ loss_{neg}^{(i)} = -1 \\times weight_{neg}^{(i)} \\times (1 - y^{(i)}) \\times log(1 - \\hat{y}^{(i)} + \\epsilon)$$\n",
    "$$\\epsilon = \\text{a tiny positive number}$$"
   ]
  },
  {
   "cell_type": "code",
   "execution_count": 13,
   "metadata": {},
   "outputs": [
    {
     "name": "stdout",
     "output_type": "stream",
     "text": [
      "14.632718571318554\n"
     ]
    }
   ],
   "source": [
    "# Calculate and print out the positive loss\n",
    "positive_loss = -1 * np.sum(positive_weight *\n",
    "                y_true *\n",
    "                np.log(y_predict + epsilon)\n",
    "                )\n",
    "print(positive_loss)"
   ]
  },
  {
   "cell_type": "code",
   "execution_count": 14,
   "metadata": {},
   "outputs": [
    {
     "name": "stdout",
     "output_type": "stream",
     "text": [
      "1.6118087250961888\n"
     ]
    }
   ],
   "source": [
    "# Calculate the print our the negative loss\n",
    "negative_loss = -1 * np.sum(negative_weight *\n",
    "                (1 - y_true) *\n",
    "                np.log(1 - y_predict + epsilon)\n",
    "                )\n",
    "print(negative_loss)"
   ]
  },
  {
   "cell_type": "code",
   "execution_count": 15,
   "metadata": {},
   "outputs": [
    {
     "name": "stdout",
     "output_type": "stream",
     "text": [
      "16.24452729641474\n"
     ]
    }
   ],
   "source": [
    "# Sum positive and negative losses to calculate total loss\n",
    "total_loss = positive_loss + negative_loss\n",
    "print(total_loss)"
   ]
  }
 ],
 "metadata": {
  "kernelspec": {
   "display_name": "Python 3",
   "language": "python",
   "name": "python3"
  },
  "language_info": {
   "codemirror_mode": {
    "name": "ipython",
    "version": 3
   },
   "file_extension": ".py",
   "mimetype": "text/x-python",
   "name": "python",
   "nbconvert_exporter": "python",
   "pygments_lexer": "ipython3",
   "version": "3.6.9"
  }
 },
 "nbformat": 4,
 "nbformat_minor": 4
}
